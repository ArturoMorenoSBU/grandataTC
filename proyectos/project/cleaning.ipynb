{
 "cells": [
  {
   "cell_type": "code",
   "execution_count": 1,
   "id": "7bc6c6d3-98d2-4279-a910-ebc0319b0b1b",
   "metadata": {},
   "outputs": [],
   "source": [
    "from pyspark.sql import SparkSession\n",
    "from pyspark.sql.functions import col, sum, broadcast, when\n",
    "from project.business.func import cleaningFunctions"
   ]
  },
  {
   "cell_type": "code",
   "execution_count": 2,
   "id": "379292d7-af5c-4ce2-8250-aec6fa8bf89e",
   "metadata": {},
   "outputs": [],
   "source": [
    "spark = SparkSession.builder \\\n",
    "    .appName(\"cleaning\") \\\n",
    "    .config(\"spark.some.config.option\", \"config-value\") \\\n",
    "    .getOrCreate()"
   ]
  },
  {
   "cell_type": "markdown",
   "id": "22a0686e-8c07-41b3-9c69-e068b2f31478",
   "metadata": {},
   "source": [
    "## Análisis general de la raw data"
   ]
  },
  {
   "cell_type": "markdown",
   "id": "f80e6e8f-cf34-43c7-9c57-206d1c611087",
   "metadata": {
    "jp-MarkdownHeadingCollapsed": true
   },
   "source": [
    "### events data"
   ]
  },
  {
   "cell_type": "code",
   "execution_count": 3,
   "id": "a86f6bc9-1bfa-45ac-bf45-acda06753782",
   "metadata": {},
   "outputs": [],
   "source": [
    "events_df = spark.read.csv(\"/home/jovyan/work/data/raw/events.csv\", header=True)"
   ]
  },
  {
   "cell_type": "code",
   "execution_count": 4,
   "id": "fdb63d26-67aa-4330-81d2-a0023ed4185c",
   "metadata": {},
   "outputs": [
    {
     "name": "stdout",
     "output_type": "stream",
     "text": [
      "+----+-----+-------+---+--------+------+---------+--------------+\n",
      "|hour|calls|seconds|sms|    date|region|id_source|id_destination|\n",
      "+----+-----+-------+---+--------+------+---------+--------------+\n",
      "|  11|    1|     24|  0|20211001|     5|      BF3|           374|\n",
      "|   1|    1|     51|  0|20211001|     4|      9F5|           374|\n",
      "|  11|    1|      3|  0|20211001|     6|      025|           374|\n",
      "|  10|    1|     36|  0|20211001|     5|      FB6|           D52|\n",
      "|  23|    4|    137|  0|20211001|     8|      4BB|           861|\n",
      "+----+-----+-------+---+--------+------+---------+--------------+\n",
      "only showing top 5 rows\n",
      "\n"
     ]
    }
   ],
   "source": [
    "events_df.show(5)"
   ]
  },
  {
   "cell_type": "code",
   "execution_count": 5,
   "id": "7d69611b-17cc-4b39-a9b1-8adf4c3a8741",
   "metadata": {},
   "outputs": [
    {
     "name": "stdout",
     "output_type": "stream",
     "text": [
      "root\n",
      " |-- hour: string (nullable = true)\n",
      " |-- calls: string (nullable = true)\n",
      " |-- seconds: string (nullable = true)\n",
      " |-- sms: string (nullable = true)\n",
      " |-- date: string (nullable = true)\n",
      " |-- region: string (nullable = true)\n",
      " |-- id_source: string (nullable = true)\n",
      " |-- id_destination: string (nullable = true)\n",
      "\n"
     ]
    }
   ],
   "source": [
    "events_df.printSchema()"
   ]
  },
  {
   "cell_type": "code",
   "execution_count": 6,
   "id": "412939d2-b9bd-44ef-afcb-1a85dbe9f7c5",
   "metadata": {},
   "outputs": [
    {
     "data": {
      "text/plain": [
       "4097"
      ]
     },
     "execution_count": 6,
     "metadata": {},
     "output_type": "execute_result"
    }
   ],
   "source": [
    "events_df.select(\"id_source\").distinct().count()"
   ]
  },
  {
   "cell_type": "code",
   "execution_count": 7,
   "id": "e5db42cb-16ae-4bc9-9132-d80bba776b1a",
   "metadata": {},
   "outputs": [
    {
     "name": "stdout",
     "output_type": "stream",
     "text": [
      "+---------+--------------+\n",
      "|id_source|id_destination|\n",
      "+---------+--------------+\n",
      "|       18|            15|\n",
      "+---------+--------------+\n",
      "\n"
     ]
    }
   ],
   "source": [
    "columns_no_nulls = [\"id_source\", \"id_destination\"]\n",
    "null_counts = cleaningFunctions.count_nulls(events_df, columns_no_nulls)\n",
    "null_counts.show()"
   ]
  },
  {
   "cell_type": "markdown",
   "id": "8beb9706-2e71-4cc1-816f-ae6231316f07",
   "metadata": {},
   "source": [
    "####  registros con id_source o id_destination nulo deben ser descartados."
   ]
  },
  {
   "cell_type": "markdown",
   "id": "2b416ea5-9876-48f9-bb7a-eadf77460caf",
   "metadata": {},
   "source": [
    "### free sms dest"
   ]
  },
  {
   "cell_type": "code",
   "execution_count": 8,
   "id": "c3b6ab61-7af6-4d72-bef9-2968af1e24f5",
   "metadata": {},
   "outputs": [],
   "source": [
    "free_sms = spark.read.csv(\"/home/jovyan/work/data/raw/free_destinations.csv\", header=True)"
   ]
  },
  {
   "cell_type": "code",
   "execution_count": 9,
   "id": "c07c6d2e-527f-46ca-b5cd-731a0f33d667",
   "metadata": {},
   "outputs": [
    {
     "name": "stdout",
     "output_type": "stream",
     "text": [
      "+---+\n",
      "| id|\n",
      "+---+\n",
      "|374|\n",
      "|D52|\n",
      "|861|\n",
      "|5B0|\n",
      "|4CA|\n",
      "+---+\n",
      "only showing top 5 rows\n",
      "\n"
     ]
    }
   ],
   "source": [
    "free_sms.show(5)"
   ]
  },
  {
   "cell_type": "code",
   "execution_count": 10,
   "id": "13fccca5-b6fb-4039-b580-e066cd97d3b9",
   "metadata": {},
   "outputs": [
    {
     "name": "stdout",
     "output_type": "stream",
     "text": [
      "root\n",
      " |-- id: string (nullable = true)\n",
      "\n"
     ]
    }
   ],
   "source": [
    "free_sms.printSchema()"
   ]
  },
  {
   "cell_type": "code",
   "execution_count": 11,
   "id": "8ae26489-581c-4996-a6ea-eee69061e721",
   "metadata": {},
   "outputs": [
    {
     "data": {
      "text/plain": [
       "200"
      ]
     },
     "execution_count": 11,
     "metadata": {},
     "output_type": "execute_result"
    }
   ],
   "source": [
    "free_sms.distinct().count()"
   ]
  },
  {
   "cell_type": "code",
   "execution_count": 12,
   "id": "69f6a13d-a0db-4c9d-b31b-d12890a21d44",
   "metadata": {},
   "outputs": [
    {
     "name": "stdout",
     "output_type": "stream",
     "text": [
      "+---+\n",
      "| id|\n",
      "+---+\n",
      "|  0|\n",
      "+---+\n",
      "\n"
     ]
    }
   ],
   "source": [
    "count_nulls = cleaningFunctions.count_nulls(free_sms, [\"id\"])\n",
    "count_nulls.show()"
   ]
  },
  {
   "cell_type": "markdown",
   "id": "ba04f30b-b470-4bcb-991d-53949757d172",
   "metadata": {},
   "source": [
    "## Limpieza de datos\n",
    "### Requerimeintos\n",
    "* registros con id_source o id_destination nulo deben ser descartados."
   ]
  },
  {
   "cell_type": "code",
   "execution_count": 13,
   "id": "a18b8921-0c64-46b1-8f3f-cbcca74a315b",
   "metadata": {},
   "outputs": [],
   "source": [
    "# Selecionando columnas dónde eliminaremos los registros si existen nulos\n",
    "columns_no_nulls = [\"id_source\", \"id_destination\"]"
   ]
  },
  {
   "cell_type": "code",
   "execution_count": 14,
   "id": "8761caf3-6b9d-4e78-b6b2-7635777ac9b1",
   "metadata": {},
   "outputs": [
    {
     "name": "stdout",
     "output_type": "stream",
     "text": [
      "+---------+--------------+\n",
      "|id_source|id_destination|\n",
      "+---------+--------------+\n",
      "|       18|            15|\n",
      "+---------+--------------+\n",
      "\n"
     ]
    }
   ],
   "source": [
    "# Validación, conteo de nulos antes del drop\n",
    "null_counts = cleaningFunctions.count_nulls(events_df, columns_no_nulls)\n",
    "null_counts.show()"
   ]
  },
  {
   "cell_type": "code",
   "execution_count": 15,
   "id": "f0500e23-f94f-4e20-9e67-49d403b10241",
   "metadata": {},
   "outputs": [
    {
     "data": {
      "text/plain": [
       "DataFrame[hour: string, calls: string, seconds: string, sms: string, date: string, region: string, id_source: string, id_destination: string]"
      ]
     },
     "execution_count": 15,
     "metadata": {},
     "output_type": "execute_result"
    }
   ],
   "source": [
    "# Nuevo df de eventos sin nulos\n",
    "events_withNoNulls = events_df.na.drop(subset=columns_no_nulls)\n",
    "events_df.unpersist()"
   ]
  },
  {
   "cell_type": "code",
   "execution_count": 16,
   "id": "680842be-583b-4cac-9bfd-07b0dc29060f",
   "metadata": {},
   "outputs": [
    {
     "data": {
      "text/plain": [
       "DataFrame[id: string]"
      ]
     },
     "execution_count": 16,
     "metadata": {},
     "output_type": "execute_result"
    }
   ],
   "source": [
    "# Unión del df de eventos sin nulos con el df de numeros de msm de destino gratuitos\n",
    "consolidate_df = events_withNoNulls.join(broadcast(free_sms),events_withNoNulls[\"id_destination\"] == free_sms[\"id\"] , \"left\")\n",
    "free_sms.unpersist()"
   ]
  },
  {
   "cell_type": "code",
   "execution_count": 17,
   "id": "f83a0434-5cdb-4406-9dcb-bd87790c81b5",
   "metadata": {},
   "outputs": [
    {
     "data": {
      "text/plain": [
       "[Row(hour='11', calls='1', seconds='24', sms='0', date='20211001', region='5', id_source='BF3', id_destination='374', id='374'),\n",
       " Row(hour='1', calls='1', seconds='51', sms='0', date='20211001', region='4', id_source='9F5', id_destination='374', id='374'),\n",
       " Row(hour='11', calls='1', seconds='3', sms='0', date='20211001', region='6', id_source='025', id_destination='374', id='374'),\n",
       " Row(hour='10', calls='1', seconds='36', sms='0', date='20211001', region='5', id_source='FB6', id_destination='D52', id='D52'),\n",
       " Row(hour='23', calls='4', seconds='137', sms='0', date='20211001', region='8', id_source='4BB', id_destination='861', id='861')]"
      ]
     },
     "execution_count": 17,
     "metadata": {},
     "output_type": "execute_result"
    }
   ],
   "source": [
    "# Spark ordena los datos, en la cabecera deben estar las concordancia entre id_destination y id\n",
    "consolidate_df.head(5)"
   ]
  },
  {
   "cell_type": "code",
   "execution_count": 18,
   "id": "658b65a8-e5a5-4b52-b8fa-12a725134ed1",
   "metadata": {},
   "outputs": [
    {
     "data": {
      "text/plain": [
       "[Row(hour='17', calls='1', seconds='19', sms='0', date='20211001', region='6', id_source='4E0', id_destination='650', id=None),\n",
       " Row(hour='21', calls='1', seconds='43', sms='0', date='20211001', region='6', id_source='EE5', id_destination='885', id=None),\n",
       " Row(hour='14', calls='1', seconds='26', sms='0', date='20211001', region='6', id_source='21F', id_destination='F9A', id=None),\n",
       " Row(hour='15', calls='1', seconds='95', sms='3', date='20211001', region='6', id_source='37B', id_destination='203', id=None),\n",
       " Row(hour='18', calls='1', seconds='71', sms='0', date='20211001', region='6', id_source='3DC', id_destination='203', id=None)]"
      ]
     },
     "execution_count": 18,
     "metadata": {},
     "output_type": "execute_result"
    }
   ],
   "source": [
    "# Los valores del final deben ser nulos al no existir los id de destino en el df de free_destinations.\n",
    "consolidate_df.tail(5)"
   ]
  },
  {
   "cell_type": "markdown",
   "id": "8eb43f2b-d9e0-4ce8-b1e7-40bb3e2ff9ac",
   "metadata": {},
   "source": [
    "## Validación de datos"
   ]
  },
  {
   "cell_type": "code",
   "execution_count": 19,
   "id": "fd9f8189-4405-42ff-ac92-f69e0f064956",
   "metadata": {},
   "outputs": [
    {
     "name": "stdout",
     "output_type": "stream",
     "text": [
      "+---------+--------------+\n",
      "|id_source|id_destination|\n",
      "+---------+--------------+\n",
      "|        0|             0|\n",
      "+---------+--------------+\n",
      "\n"
     ]
    },
    {
     "data": {
      "text/plain": [
       "DataFrame[id_source: bigint, id_destination: bigint]"
      ]
     },
     "execution_count": 19,
     "metadata": {},
     "output_type": "execute_result"
    }
   ],
   "source": [
    "null_counts = cleaningFunctions.count_nulls(events_withNoNulls, columns_no_nulls)\n",
    "null_counts.show()\n",
    "events_withNoNulls.unpersist()\n",
    "null_counts.unpersist()"
   ]
  },
  {
   "cell_type": "markdown",
   "id": "7cedbb18-8fd5-4117-9e60-014b74fb6c5f",
   "metadata": {},
   "source": [
    "## Procesando data limpia"
   ]
  },
  {
   "cell_type": "code",
   "execution_count": 21,
   "id": "18f52f42-3e67-4973-9ee2-2bcf1f106529",
   "metadata": {},
   "outputs": [],
   "source": [
    "consolidate_df.write.mode(\"overwrite\").partitionBy(\"date\").parquet(\"/home/jovyan/work/data/preprocessed/\")"
   ]
  },
  {
   "cell_type": "code",
   "execution_count": 22,
   "id": "b9532817-ae70-4927-b12a-03c3e0549366",
   "metadata": {},
   "outputs": [],
   "source": [
    "spark.stop()"
   ]
  }
 ],
 "metadata": {
  "kernelspec": {
   "display_name": "Python 3 (ipykernel)",
   "language": "python",
   "name": "python3"
  },
  "language_info": {
   "codemirror_mode": {
    "name": "ipython",
    "version": 3
   },
   "file_extension": ".py",
   "mimetype": "text/x-python",
   "name": "python",
   "nbconvert_exporter": "python",
   "pygments_lexer": "ipython3",
   "version": "3.11.6"
  }
 },
 "nbformat": 4,
 "nbformat_minor": 5
}
