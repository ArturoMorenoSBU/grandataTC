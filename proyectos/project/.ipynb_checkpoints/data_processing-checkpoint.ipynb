{
 "cells": [
  {
   "cell_type": "code",
   "execution_count": 1,
   "id": "2c99c818-ebe9-4dbf-8e4d-fb1204a525f3",
   "metadata": {},
   "outputs": [],
   "source": [
    "from pyspark.sql import SparkSession\n",
    "from pyspark.sql.functions import col, sum, broadcast, when\n",
    "from pyspark.sql import functions as F\n",
    "from pyspark.sql.types import IntegerType, FloatType, StringType, TimestampType"
   ]
  },
  {
   "cell_type": "code",
   "execution_count": 2,
   "id": "a32f1772-ee3d-4657-8ef2-0e0d7fd7b771",
   "metadata": {},
   "outputs": [],
   "source": [
    "spark = SparkSession.builder \\\n",
    "    .appName(\"data_processing\") \\\n",
    "    .config(\"spark.some.config.option\", \"config-value\") \\\n",
    "    .getOrCreate()"
   ]
  },
  {
   "cell_type": "code",
   "execution_count": 3,
   "id": "81b17637-2955-4562-be25-54cf9e3e1284",
   "metadata": {},
   "outputs": [
    {
     "name": "stdout",
     "output_type": "stream",
     "text": [
      "+----+-----+-------+---+------+---------+--------------+----+--------+\n",
      "|hour|calls|seconds|sms|region|id_source|id_destination|  id|    date|\n",
      "+----+-----+-------+---+------+---------+--------------+----+--------+\n",
      "|  22|    1|     75|  0|     9|      731|           7F9|NULL|20211001|\n",
      "|  23|    3|    453|  0|     9|      731|           7F9|NULL|20211001|\n",
      "|  20|    1|    172|  0|     9|      731|           7F9|NULL|20211001|\n",
      "|  15|    2|    151|  0|     9|      731|           7F9|NULL|20211001|\n",
      "|  16|    1|    338|  0|     9|      731|           7F9|NULL|20211001|\n",
      "|  18|    1|     78|  0|     9|      FCE|           356|NULL|20211001|\n",
      "|  13|    1|     41|  0|     9|      0D4|           356|NULL|20211001|\n",
      "|  11|    1|     75|  0|     9|      449|           356|NULL|20211001|\n",
      "|  14|    2|     62|  0|     8|      7A5|           17A|NULL|20211001|\n",
      "|   9|    1|    128|  0|     8|      557|           17A|NULL|20211001|\n",
      "|  11|    2|     73|  0|     8|      4DF|           67C|NULL|20211001|\n",
      "|  15|    1|     22|  0|     8|      4FE|           67C|NULL|20211001|\n",
      "|  16|    1|     16|  0|     8|      4FE|           67C|NULL|20211001|\n",
      "|  21|    1|    263|  0|     7|      090|           B9F|NULL|20211001|\n",
      "|  11|    1|    106|  0|     7|      9D7|           B9F|NULL|20211001|\n",
      "|   7|    1|     13|  0|     9|      112|           016|NULL|20211001|\n",
      "|   8|    1|     18|  0|     9|      112|           016|NULL|20211001|\n",
      "|   6|    1|     35|  0|     9|      112|           016|NULL|20211001|\n",
      "|  16|    2|     79|  3|     5|      890|           CB9|NULL|20211001|\n",
      "|  18|    0|      0|  1|     5|      890|           CB9|NULL|20211001|\n",
      "+----+-----+-------+---+------+---------+--------------+----+--------+\n",
      "only showing top 20 rows\n",
      "\n"
     ]
    }
   ],
   "source": [
    "df = spark.read.parquet(\"/home/jovyan/work/data/preprocessed/\")\n",
    "df.show()"
   ]
  },
  {
   "cell_type": "code",
   "execution_count": 4,
   "id": "4a52261f-404a-4514-911e-ccfb3125981c",
   "metadata": {},
   "outputs": [
    {
     "data": {
      "text/plain": [
       "DataFrame[hour: string, calls: string, seconds: string, sms: string, region: string, id_source: string, id_destination: string, id: string, date: int, cuota_sms_region: double]"
      ]
     },
     "execution_count": 4,
     "metadata": {},
     "output_type": "execute_result"
    }
   ],
   "source": [
    "df = df.withColumn(\"cuota_sms_region\",\n",
    "                   when(df[\"id\"].isNotNull(), 0)\n",
    "                   .when((df[\"region\"] >= 1) & (df[\"region\"] <= 5), 1.5)\n",
    "                   .when((df[\"region\"] >= 6) & (df[\"region\"] <= 9), 2)\n",
    "                   .otherwise(None))\n",
    "df_drop_idcol = df.drop(\"id\")\n",
    "df.unpersist()"
   ]
  },
  {
   "cell_type": "code",
   "execution_count": 5,
   "id": "1d8d284e-6bc1-4e4d-8959-cf042335d2e1",
   "metadata": {},
   "outputs": [
    {
     "name": "stdout",
     "output_type": "stream",
     "text": [
      "+----+-----+-------+---+------+---------+--------------+--------+----------------+\n",
      "|hour|calls|seconds|sms|region|id_source|id_destination|    date|cuota_sms_region|\n",
      "+----+-----+-------+---+------+---------+--------------+--------+----------------+\n",
      "|  22|    1|     75|  0|     9|      731|           7F9|20211001|             2.0|\n",
      "|  23|    3|    453|  0|     9|      731|           7F9|20211001|             2.0|\n",
      "|  20|    1|    172|  0|     9|      731|           7F9|20211001|             2.0|\n",
      "|  15|    2|    151|  0|     9|      731|           7F9|20211001|             2.0|\n",
      "|  16|    1|    338|  0|     9|      731|           7F9|20211001|             2.0|\n",
      "|  18|    1|     78|  0|     9|      FCE|           356|20211001|             2.0|\n",
      "|  13|    1|     41|  0|     9|      0D4|           356|20211001|             2.0|\n",
      "|  11|    1|     75|  0|     9|      449|           356|20211001|             2.0|\n",
      "|  14|    2|     62|  0|     8|      7A5|           17A|20211001|             2.0|\n",
      "|   9|    1|    128|  0|     8|      557|           17A|20211001|             2.0|\n",
      "|  11|    2|     73|  0|     8|      4DF|           67C|20211001|             2.0|\n",
      "|  15|    1|     22|  0|     8|      4FE|           67C|20211001|             2.0|\n",
      "|  16|    1|     16|  0|     8|      4FE|           67C|20211001|             2.0|\n",
      "|  21|    1|    263|  0|     7|      090|           B9F|20211001|             2.0|\n",
      "|  11|    1|    106|  0|     7|      9D7|           B9F|20211001|             2.0|\n",
      "|   7|    1|     13|  0|     9|      112|           016|20211001|             2.0|\n",
      "|   8|    1|     18|  0|     9|      112|           016|20211001|             2.0|\n",
      "|   6|    1|     35|  0|     9|      112|           016|20211001|             2.0|\n",
      "|  16|    2|     79|  3|     5|      890|           CB9|20211001|             1.5|\n",
      "|  18|    0|      0|  1|     5|      890|           CB9|20211001|             1.5|\n",
      "+----+-----+-------+---+------+---------+--------------+--------+----------------+\n",
      "only showing top 20 rows\n",
      "\n"
     ]
    }
   ],
   "source": [
    "df_drop_idcol.show()"
   ]
  },
  {
   "cell_type": "code",
   "execution_count": 6,
   "id": "2453951e-b2b4-4feb-b7a7-87f2fa1acb42",
   "metadata": {},
   "outputs": [],
   "source": [
    "# cambiando tipos de dato"
   ]
  },
  {
   "cell_type": "code",
   "execution_count": 7,
   "id": "accd2931-5bcd-4859-9550-8d77c5720079",
   "metadata": {},
   "outputs": [],
   "source": [
    "df_cast = df_drop_idcol.withColumn(\"hour\", F.col(\"hour\").cast(IntegerType())) \\\n",
    "       .withColumn(\"calls\", F.col(\"calls\").cast(IntegerType())) \\\n",
    "       .withColumn(\"seconds\", F.col(\"seconds\").cast(IntegerType())) \\\n",
    "       .withColumn(\"sms\", F.col(\"sms\").cast(IntegerType())) \\\n",
    "       .withColumn(\"region\", F.col(\"region\").cast(IntegerType())) \\\n",
    "       .withColumn(\"date\", F.to_date(F.col(\"date\").cast(StringType()), \"yyyyMMdd\")) \\\n",
    "       .withColumn(\"cuota_sms_region\", F.col(\"cuota_sms_region\").cast(FloatType()))"
   ]
  },
  {
   "cell_type": "code",
   "execution_count": 8,
   "id": "a5159105-e57f-4d08-8276-ae0cb801d60b",
   "metadata": {},
   "outputs": [
    {
     "name": "stdout",
     "output_type": "stream",
     "text": [
      "root\n",
      " |-- hour: integer (nullable = true)\n",
      " |-- calls: integer (nullable = true)\n",
      " |-- seconds: integer (nullable = true)\n",
      " |-- sms: integer (nullable = true)\n",
      " |-- region: integer (nullable = true)\n",
      " |-- id_source: string (nullable = true)\n",
      " |-- id_destination: string (nullable = true)\n",
      " |-- date: date (nullable = true)\n",
      " |-- cuota_sms_region: float (nullable = true)\n",
      "\n"
     ]
    }
   ],
   "source": [
    "df_cast.printSchema()"
   ]
  },
  {
   "cell_type": "code",
   "execution_count": 9,
   "id": "18fe975e-4d72-4e6d-a09c-4b24b615ce17",
   "metadata": {},
   "outputs": [
    {
     "name": "stdout",
     "output_type": "stream",
     "text": [
      "+----+-----+-------+---+------+---------+--------------+----------+----------------+\n",
      "|hour|calls|seconds|sms|region|id_source|id_destination|      date|cuota_sms_region|\n",
      "+----+-----+-------+---+------+---------+--------------+----------+----------------+\n",
      "|  22|    1|     75|  0|     9|      731|           7F9|2021-10-01|             2.0|\n",
      "|  23|    3|    453|  0|     9|      731|           7F9|2021-10-01|             2.0|\n",
      "|  20|    1|    172|  0|     9|      731|           7F9|2021-10-01|             2.0|\n",
      "+----+-----+-------+---+------+---------+--------------+----------+----------------+\n",
      "only showing top 3 rows\n",
      "\n"
     ]
    }
   ],
   "source": [
    "df_cast.show(3)"
   ]
  },
  {
   "cell_type": "code",
   "execution_count": 10,
   "id": "53aa5dc2-bc3c-47ed-842d-be0416d9341b",
   "metadata": {},
   "outputs": [],
   "source": [
    "df_cast.write.mode(\"overwrite\").partitionBy(\"date\").parquet(\"/home/jovyan/work/data/processed/\")"
   ]
  },
  {
   "cell_type": "code",
   "execution_count": 11,
   "id": "e36005fc-9736-441e-939c-b7b3e9978956",
   "metadata": {},
   "outputs": [],
   "source": [
    "spark.stop()"
   ]
  }
 ],
 "metadata": {
  "kernelspec": {
   "display_name": "Python 3 (ipykernel)",
   "language": "python",
   "name": "python3"
  },
  "language_info": {
   "codemirror_mode": {
    "name": "ipython",
    "version": 3
   },
   "file_extension": ".py",
   "mimetype": "text/x-python",
   "name": "python",
   "nbconvert_exporter": "python",
   "pygments_lexer": "ipython3",
   "version": "3.11.6"
  }
 },
 "nbformat": 4,
 "nbformat_minor": 5
}
